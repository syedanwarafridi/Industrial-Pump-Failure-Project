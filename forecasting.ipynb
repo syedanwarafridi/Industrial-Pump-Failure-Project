{
 "cells": [
  {
   "cell_type": "markdown",
   "metadata": {},
   "source": [
    "# Import Packages"
   ]
  },
  {
   "cell_type": "code",
   "execution_count": 34,
   "metadata": {},
   "outputs": [],
   "source": [
    "import pandas as pd\n",
    "import numpy as np\n",
    "from sklearn.preprocessing import StandardScaler\n",
    "from sklearn.model_selection import train_test_split\n",
    "import tensorflow as tf\n",
    "from tensorflow.keras.models import Sequential\n",
    "from tensorflow.keras.layers import LSTM, Dense, Dropout\n",
    "from sklearn.metrics import classification_report, confusion_matrix\n",
    "from tensorflow.keras.optimizers import Adam, SGD\n",
    "from sklearn.metrics import classification_report, confusion_matrix, roc_curve, roc_auc_score\n",
    "import matplotlib.pyplot as plt\n"
   ]
  },
  {
   "cell_type": "markdown",
   "metadata": {},
   "source": [
    "# Load Data"
   ]
  },
  {
   "cell_type": "code",
   "execution_count": 3,
   "metadata": {},
   "outputs": [],
   "source": [
    "pump_failure_data = pd.read_csv(\"data/hypothetical_pump_failure_dataset.csv\")\n",
    "pump_failure_data['timestamp'] = pd.to_datetime(pump_failure_data['timestamp'])"
   ]
  },
  {
   "cell_type": "code",
   "execution_count": 4,
   "metadata": {},
   "outputs": [
    {
     "data": {
      "text/html": [
       "<div>\n",
       "<style scoped>\n",
       "    .dataframe tbody tr th:only-of-type {\n",
       "        vertical-align: middle;\n",
       "    }\n",
       "\n",
       "    .dataframe tbody tr th {\n",
       "        vertical-align: top;\n",
       "    }\n",
       "\n",
       "    .dataframe thead th {\n",
       "        text-align: right;\n",
       "    }\n",
       "</style>\n",
       "<table border=\"1\" class=\"dataframe\">\n",
       "  <thead>\n",
       "    <tr style=\"text-align: right;\">\n",
       "      <th></th>\n",
       "      <th>timestamp</th>\n",
       "      <th>vibration_level</th>\n",
       "      <th>temperature_C</th>\n",
       "      <th>pressure_PSI</th>\n",
       "      <th>flow_rate_m3h</th>\n",
       "      <th>failure</th>\n",
       "    </tr>\n",
       "  </thead>\n",
       "  <tbody>\n",
       "    <tr>\n",
       "      <th>0</th>\n",
       "      <td>2024-01-01 00:00:00</td>\n",
       "      <td>0.549671</td>\n",
       "      <td>76.996777</td>\n",
       "      <td>93.248217</td>\n",
       "      <td>40.460962</td>\n",
       "      <td>0</td>\n",
       "    </tr>\n",
       "    <tr>\n",
       "      <th>1</th>\n",
       "      <td>2024-01-01 01:00:00</td>\n",
       "      <td>0.486174</td>\n",
       "      <td>74.623168</td>\n",
       "      <td>98.554813</td>\n",
       "      <td>45.698075</td>\n",
       "      <td>0</td>\n",
       "    </tr>\n",
       "    <tr>\n",
       "      <th>2</th>\n",
       "      <td>2024-01-01 02:00:00</td>\n",
       "      <td>0.564769</td>\n",
       "      <td>70.298152</td>\n",
       "      <td>92.075801</td>\n",
       "      <td>47.931972</td>\n",
       "      <td>0</td>\n",
       "    </tr>\n",
       "    <tr>\n",
       "      <th>3</th>\n",
       "      <td>2024-01-01 03:00:00</td>\n",
       "      <td>0.652303</td>\n",
       "      <td>66.765316</td>\n",
       "      <td>96.920385</td>\n",
       "      <td>59.438438</td>\n",
       "      <td>0</td>\n",
       "    </tr>\n",
       "    <tr>\n",
       "      <th>4</th>\n",
       "      <td>2024-01-01 04:00:00</td>\n",
       "      <td>0.476585</td>\n",
       "      <td>73.491117</td>\n",
       "      <td>81.063853</td>\n",
       "      <td>52.782766</td>\n",
       "      <td>0</td>\n",
       "    </tr>\n",
       "  </tbody>\n",
       "</table>\n",
       "</div>"
      ],
      "text/plain": [
       "            timestamp  vibration_level  temperature_C  pressure_PSI  \\\n",
       "0 2024-01-01 00:00:00         0.549671      76.996777     93.248217   \n",
       "1 2024-01-01 01:00:00         0.486174      74.623168     98.554813   \n",
       "2 2024-01-01 02:00:00         0.564769      70.298152     92.075801   \n",
       "3 2024-01-01 03:00:00         0.652303      66.765316     96.920385   \n",
       "4 2024-01-01 04:00:00         0.476585      73.491117     81.063853   \n",
       "\n",
       "   flow_rate_m3h  failure  \n",
       "0      40.460962        0  \n",
       "1      45.698075        0  \n",
       "2      47.931972        0  \n",
       "3      59.438438        0  \n",
       "4      52.782766        0  "
      ]
     },
     "execution_count": 4,
     "metadata": {},
     "output_type": "execute_result"
    }
   ],
   "source": [
    "pump_failure_data.head()"
   ]
  },
  {
   "cell_type": "markdown",
   "metadata": {},
   "source": [
    "# Scale the Features"
   ]
  },
  {
   "cell_type": "code",
   "execution_count": 5,
   "metadata": {},
   "outputs": [],
   "source": [
    "scaler = StandardScaler()\n",
    "features = pump_failure_data.drop(['failure', 'timestamp'], axis=1)\n",
    "scaled_features = scaler.fit_transform(features)"
   ]
  },
  {
   "cell_type": "markdown",
   "metadata": {},
   "source": [
    "# Concatenate timestamp feature with scaled features"
   ]
  },
  {
   "cell_type": "code",
   "execution_count": 6,
   "metadata": {},
   "outputs": [],
   "source": [
    "scaled_df = pd.DataFrame(scaled_features, columns=features.columns)\n",
    "scaled_df['timestamp'] = pump_failure_data['timestamp']\n",
    "scaled_df['failure'] = pump_failure_data['failure'].values"
   ]
  },
  {
   "cell_type": "code",
   "execution_count": 7,
   "metadata": {},
   "outputs": [],
   "source": [
    "# Sort by timestamp to maintain the temporal sequence\n",
    "scaled_df.sort_values(by='timestamp', inplace=True)"
   ]
  },
  {
   "cell_type": "markdown",
   "metadata": {},
   "source": [
    "# Prepare X and y"
   ]
  },
  {
   "cell_type": "code",
   "execution_count": 8,
   "metadata": {},
   "outputs": [],
   "source": [
    "X = scaled_df.drop(['failure', 'timestamp'], axis=1)\n",
    "y = scaled_df['failure']"
   ]
  },
  {
   "cell_type": "code",
   "execution_count": 9,
   "metadata": {},
   "outputs": [],
   "source": [
    "# Reshape X for LSTM\n",
    "X = np.array(X).reshape((X.shape[0], 1, X.shape[1]))"
   ]
  },
  {
   "cell_type": "markdown",
   "metadata": {},
   "source": [
    "# Train Test Split"
   ]
  },
  {
   "cell_type": "code",
   "execution_count": 10,
   "metadata": {},
   "outputs": [],
   "source": [
    "train_size = int(len(scaled_df) * 0.8)\n",
    "X_train = X[:train_size]\n",
    "X_test = X[train_size:]\n",
    "y_train = y[:train_size]\n",
    "y_test = y[train_size:]"
   ]
  },
  {
   "cell_type": "markdown",
   "metadata": {},
   "source": [
    "# Develop Forecasting Model"
   ]
  },
  {
   "cell_type": "code",
   "execution_count": 20,
   "metadata": {},
   "outputs": [],
   "source": [
    "model = Sequential()\n",
    "model.add(LSTM(50, return_sequences=True, input_shape=(X_train.shape[1], X_train.shape[2])))\n",
    "model.add(Dropout(0.5))\n",
    "model.add(LSTM(50))\n",
    "model.add(Dropout(0.5))\n",
    "model.add(Dense(1, activation='sigmoid'))"
   ]
  },
  {
   "cell_type": "code",
   "execution_count": 35,
   "metadata": {},
   "outputs": [],
   "source": [
    "optimizer = SGD(learning_rate=0.001)\n",
    "model.compile(optimizer=optimizer, loss='binary_crossentropy', metrics=['accuracy'])"
   ]
  },
  {
   "cell_type": "code",
   "execution_count": 36,
   "metadata": {},
   "outputs": [
    {
     "name": "stdout",
     "output_type": "stream",
     "text": [
      "Epoch 1/50\n",
      "100/100 - 10s - loss: 0.0553 - accuracy: 0.9812 - val_loss: 0.0917 - val_accuracy: 0.9700 - 10s/epoch - 103ms/step\n",
      "Epoch 2/50\n",
      "100/100 - 1s - loss: 0.0471 - accuracy: 0.9850 - val_loss: 0.0901 - val_accuracy: 0.9700 - 701ms/epoch - 7ms/step\n",
      "Epoch 3/50\n",
      "100/100 - 1s - loss: 0.0534 - accuracy: 0.9812 - val_loss: 0.0899 - val_accuracy: 0.9700 - 782ms/epoch - 8ms/step\n",
      "Epoch 4/50\n",
      "100/100 - 1s - loss: 0.0497 - accuracy: 0.9812 - val_loss: 0.0891 - val_accuracy: 0.9700 - 784ms/epoch - 8ms/step\n",
      "Epoch 5/50\n",
      "100/100 - 1s - loss: 0.0441 - accuracy: 0.9850 - val_loss: 0.0886 - val_accuracy: 0.9700 - 793ms/epoch - 8ms/step\n",
      "Epoch 6/50\n",
      "100/100 - 1s - loss: 0.0524 - accuracy: 0.9787 - val_loss: 0.0864 - val_accuracy: 0.9700 - 778ms/epoch - 8ms/step\n",
      "Epoch 7/50\n",
      "100/100 - 1s - loss: 0.0454 - accuracy: 0.9825 - val_loss: 0.0872 - val_accuracy: 0.9700 - 781ms/epoch - 8ms/step\n",
      "Epoch 8/50\n",
      "100/100 - 1s - loss: 0.0617 - accuracy: 0.9787 - val_loss: 0.0870 - val_accuracy: 0.9700 - 784ms/epoch - 8ms/step\n",
      "Epoch 9/50\n",
      "100/100 - 1s - loss: 0.0518 - accuracy: 0.9812 - val_loss: 0.0862 - val_accuracy: 0.9700 - 790ms/epoch - 8ms/step\n",
      "Epoch 10/50\n",
      "100/100 - 1s - loss: 0.0473 - accuracy: 0.9825 - val_loss: 0.0861 - val_accuracy: 0.9700 - 769ms/epoch - 8ms/step\n",
      "Epoch 11/50\n",
      "100/100 - 1s - loss: 0.0583 - accuracy: 0.9787 - val_loss: 0.0847 - val_accuracy: 0.9700 - 784ms/epoch - 8ms/step\n",
      "Epoch 12/50\n",
      "100/100 - 1s - loss: 0.0458 - accuracy: 0.9850 - val_loss: 0.0848 - val_accuracy: 0.9700 - 776ms/epoch - 8ms/step\n",
      "Epoch 13/50\n",
      "100/100 - 1s - loss: 0.0571 - accuracy: 0.9825 - val_loss: 0.0864 - val_accuracy: 0.9700 - 788ms/epoch - 8ms/step\n",
      "Epoch 14/50\n",
      "100/100 - 1s - loss: 0.0590 - accuracy: 0.9775 - val_loss: 0.0864 - val_accuracy: 0.9700 - 725ms/epoch - 7ms/step\n",
      "Epoch 15/50\n",
      "100/100 - 1s - loss: 0.0550 - accuracy: 0.9825 - val_loss: 0.0850 - val_accuracy: 0.9700 - 794ms/epoch - 8ms/step\n",
      "Epoch 16/50\n",
      "100/100 - 1s - loss: 0.0474 - accuracy: 0.9825 - val_loss: 0.0846 - val_accuracy: 0.9700 - 786ms/epoch - 8ms/step\n",
      "Epoch 17/50\n",
      "100/100 - 1s - loss: 0.0541 - accuracy: 0.9812 - val_loss: 0.0854 - val_accuracy: 0.9700 - 794ms/epoch - 8ms/step\n",
      "Epoch 18/50\n",
      "100/100 - 1s - loss: 0.0538 - accuracy: 0.9787 - val_loss: 0.0849 - val_accuracy: 0.9700 - 796ms/epoch - 8ms/step\n",
      "Epoch 19/50\n",
      "100/100 - 1s - loss: 0.0496 - accuracy: 0.9837 - val_loss: 0.0843 - val_accuracy: 0.9700 - 792ms/epoch - 8ms/step\n",
      "Epoch 20/50\n",
      "100/100 - 1s - loss: 0.0535 - accuracy: 0.9825 - val_loss: 0.0852 - val_accuracy: 0.9700 - 778ms/epoch - 8ms/step\n",
      "Epoch 21/50\n",
      "100/100 - 1s - loss: 0.0516 - accuracy: 0.9837 - val_loss: 0.0848 - val_accuracy: 0.9700 - 808ms/epoch - 8ms/step\n",
      "Epoch 22/50\n",
      "100/100 - 1s - loss: 0.0601 - accuracy: 0.9800 - val_loss: 0.0847 - val_accuracy: 0.9700 - 631ms/epoch - 6ms/step\n",
      "Epoch 23/50\n",
      "100/100 - 1s - loss: 0.0495 - accuracy: 0.9850 - val_loss: 0.0854 - val_accuracy: 0.9700 - 848ms/epoch - 8ms/step\n",
      "Epoch 24/50\n",
      "100/100 - 1s - loss: 0.0495 - accuracy: 0.9850 - val_loss: 0.0869 - val_accuracy: 0.9700 - 853ms/epoch - 9ms/step\n",
      "Epoch 25/50\n",
      "100/100 - 1s - loss: 0.0427 - accuracy: 0.9825 - val_loss: 0.0858 - val_accuracy: 0.9700 - 698ms/epoch - 7ms/step\n",
      "Epoch 26/50\n",
      "100/100 - 1s - loss: 0.0524 - accuracy: 0.9825 - val_loss: 0.0872 - val_accuracy: 0.9700 - 866ms/epoch - 9ms/step\n",
      "Epoch 27/50\n",
      "100/100 - 1s - loss: 0.0655 - accuracy: 0.9750 - val_loss: 0.0872 - val_accuracy: 0.9700 - 783ms/epoch - 8ms/step\n",
      "Epoch 28/50\n",
      "100/100 - 1s - loss: 0.0500 - accuracy: 0.9787 - val_loss: 0.0876 - val_accuracy: 0.9700 - 798ms/epoch - 8ms/step\n",
      "Epoch 29/50\n",
      "100/100 - 1s - loss: 0.0470 - accuracy: 0.9850 - val_loss: 0.0871 - val_accuracy: 0.9700 - 771ms/epoch - 8ms/step\n",
      "Epoch 30/50\n",
      "100/100 - 1s - loss: 0.0526 - accuracy: 0.9850 - val_loss: 0.0862 - val_accuracy: 0.9700 - 1s/epoch - 13ms/step\n",
      "Epoch 31/50\n",
      "100/100 - 1s - loss: 0.0470 - accuracy: 0.9850 - val_loss: 0.0867 - val_accuracy: 0.9700 - 694ms/epoch - 7ms/step\n",
      "Epoch 32/50\n",
      "100/100 - 1s - loss: 0.0413 - accuracy: 0.9850 - val_loss: 0.0870 - val_accuracy: 0.9700 - 786ms/epoch - 8ms/step\n",
      "Epoch 33/50\n",
      "100/100 - 1s - loss: 0.0430 - accuracy: 0.9850 - val_loss: 0.0859 - val_accuracy: 0.9700 - 768ms/epoch - 8ms/step\n",
      "Epoch 34/50\n",
      "100/100 - 1s - loss: 0.0563 - accuracy: 0.9787 - val_loss: 0.0857 - val_accuracy: 0.9700 - 774ms/epoch - 8ms/step\n",
      "Epoch 35/50\n",
      "100/100 - 1s - loss: 0.0500 - accuracy: 0.9850 - val_loss: 0.0850 - val_accuracy: 0.9700 - 812ms/epoch - 8ms/step\n",
      "Epoch 36/50\n",
      "100/100 - 1s - loss: 0.0577 - accuracy: 0.9812 - val_loss: 0.0860 - val_accuracy: 0.9700 - 805ms/epoch - 8ms/step\n",
      "Epoch 37/50\n",
      "100/100 - 1s - loss: 0.0603 - accuracy: 0.9800 - val_loss: 0.0855 - val_accuracy: 0.9700 - 796ms/epoch - 8ms/step\n",
      "Epoch 38/50\n",
      "100/100 - 1s - loss: 0.0538 - accuracy: 0.9825 - val_loss: 0.0864 - val_accuracy: 0.9700 - 794ms/epoch - 8ms/step\n",
      "Epoch 39/50\n",
      "100/100 - 1s - loss: 0.0538 - accuracy: 0.9787 - val_loss: 0.0854 - val_accuracy: 0.9700 - 799ms/epoch - 8ms/step\n",
      "Epoch 40/50\n",
      "100/100 - 1s - loss: 0.0534 - accuracy: 0.9775 - val_loss: 0.0846 - val_accuracy: 0.9700 - 813ms/epoch - 8ms/step\n",
      "Epoch 41/50\n",
      "100/100 - 1s - loss: 0.0586 - accuracy: 0.9787 - val_loss: 0.0875 - val_accuracy: 0.9700 - 812ms/epoch - 8ms/step\n",
      "Epoch 42/50\n",
      "100/100 - 1s - loss: 0.0561 - accuracy: 0.9775 - val_loss: 0.0876 - val_accuracy: 0.9700 - 822ms/epoch - 8ms/step\n",
      "Epoch 43/50\n",
      "100/100 - 1s - loss: 0.0546 - accuracy: 0.9825 - val_loss: 0.0876 - val_accuracy: 0.9700 - 865ms/epoch - 9ms/step\n",
      "Epoch 44/50\n",
      "100/100 - 1s - loss: 0.0479 - accuracy: 0.9862 - val_loss: 0.0883 - val_accuracy: 0.9700 - 1s/epoch - 11ms/step\n",
      "Epoch 45/50\n",
      "100/100 - 1s - loss: 0.0481 - accuracy: 0.9812 - val_loss: 0.0899 - val_accuracy: 0.9700 - 732ms/epoch - 7ms/step\n",
      "Epoch 46/50\n",
      "100/100 - 1s - loss: 0.0410 - accuracy: 0.9887 - val_loss: 0.0901 - val_accuracy: 0.9700 - 702ms/epoch - 7ms/step\n",
      "Epoch 47/50\n",
      "100/100 - 1s - loss: 0.0500 - accuracy: 0.9812 - val_loss: 0.0890 - val_accuracy: 0.9700 - 798ms/epoch - 8ms/step\n",
      "Epoch 48/50\n",
      "100/100 - 1s - loss: 0.0533 - accuracy: 0.9812 - val_loss: 0.0875 - val_accuracy: 0.9700 - 797ms/epoch - 8ms/step\n",
      "Epoch 49/50\n",
      "100/100 - 1s - loss: 0.0465 - accuracy: 0.9787 - val_loss: 0.0860 - val_accuracy: 0.9700 - 823ms/epoch - 8ms/step\n",
      "Epoch 50/50\n",
      "100/100 - 1s - loss: 0.0459 - accuracy: 0.9837 - val_loss: 0.0852 - val_accuracy: 0.9700 - 781ms/epoch - 8ms/step\n"
     ]
    }
   ],
   "source": [
    "history = model.fit(X_train, y_train, epochs=50, batch_size=8, validation_data=(X_test, y_test), verbose=2)"
   ]
  },
  {
   "cell_type": "markdown",
   "metadata": {},
   "source": [
    "# Predict Test Data"
   ]
  },
  {
   "cell_type": "code",
   "execution_count": 37,
   "metadata": {},
   "outputs": [
    {
     "name": "stdout",
     "output_type": "stream",
     "text": [
      "7/7 [==============================] - 2s 6ms/step\n"
     ]
    }
   ],
   "source": [
    "y_pred = model.predict(X_test)\n",
    "y_pred = (y_pred > 0.5).astype(int)"
   ]
  },
  {
   "cell_type": "code",
   "execution_count": 38,
   "metadata": {},
   "outputs": [
    {
     "name": "stdout",
     "output_type": "stream",
     "text": [
      "LSTM Classification Report:\n",
      "              precision    recall  f1-score   support\n",
      "\n",
      "           0       0.97      0.99      0.98       190\n",
      "           1       0.83      0.50      0.62        10\n",
      "\n",
      "    accuracy                           0.97       200\n",
      "   macro avg       0.90      0.75      0.80       200\n",
      "weighted avg       0.97      0.97      0.97       200\n",
      "\n"
     ]
    }
   ],
   "source": [
    "print(\"LSTM Classification Report:\")\n",
    "print(classification_report(y_test, y_pred))"
   ]
  },
  {
   "cell_type": "code",
   "execution_count": 39,
   "metadata": {},
   "outputs": [
    {
     "name": "stdout",
     "output_type": "stream",
     "text": [
      "Confusion Matrix:\n",
      "[[189   1]\n",
      " [  5   5]]\n"
     ]
    }
   ],
   "source": [
    "# Confusion Matrix\n",
    "cm = confusion_matrix(y_test, y_pred)\n",
    "print(\"Confusion Matrix:\")\n",
    "print(cm)\n"
   ]
  },
  {
   "cell_type": "code",
   "execution_count": 40,
   "metadata": {},
   "outputs": [
    {
     "data": {
      "image/png": "[encoded data removed]",
      "text/plain": [
       "<Figure size 800x600 with 1 Axes>"
      ]
     },
     "metadata": {},
     "output_type": "display_data"
    }
   ],
   "source": [
    "fpr, tpr, thresholds = roc_curve(y_test, y_pred)\n",
    "auc = roc_auc_score(y_test, y_pred)\n",
    "\n",
    "plt.figure(figsize=(8, 6))\n",
    "plt.plot(fpr, tpr, label=f'AUC = {auc:.2f}')\n",
    "plt.xlabel('False Positive Rate')\n",
    "plt.ylabel('True Positive Rate')\n",
    "plt.title('ROC Curve')\n",
    "plt.legend(loc='lower right')\n",
    "plt.show()"
   ]
  },
  {
   "cell_type": "code",
   "execution_count": null,
   "metadata": {},
   "outputs": [],
   "source": []
  }
 ],
 "metadata": {
  "kernelspec": {
   "display_name": "AI",
   "language": "python",
   "name": "python3"
  },
  "language_info": {
   "codemirror_mode": {
    "name": "ipython",
    "version": 3
   },
   "file_extension": ".py",
   "mimetype": "text/x-python",
   "name": "python",
   "nbconvert_exporter": "python",
   "pygments_lexer": "ipython3",
   "version": "3.10.11"
  }
 },
 "nbformat": 4,
 "nbformat_minor": 2
}
